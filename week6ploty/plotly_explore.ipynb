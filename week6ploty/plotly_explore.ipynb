{
 "cells": [
  {
   "cell_type": "code",
   "execution_count": 1,
   "metadata": {},
   "outputs": [
    {
     "name": "stdout",
     "output_type": "stream",
     "text": [
      "s225476349 Ayush jain\n"
     ]
    }
   ],
   "source": [
    "# Fill in student ID and name\n",
    "# \n",
    "student_id = \"s225476349\"\n",
    "student_first_last_name = \"Ayush jain\"\n",
    "print(student_id, student_first_last_name)"
   ]
  },
  {
   "cell_type": "code",
   "execution_count": 2,
   "metadata": {},
   "outputs": [
    {
     "name": "stdout",
     "output_type": "stream",
     "text": [
      "Requirement already satisfied: plotly in /opt/anaconda3/lib/python3.13/site-packages (5.24.1)\n",
      "Collecting dash\n",
      "  Downloading dash-3.2.0-py3-none-any.whl.metadata (10 kB)\n",
      "Requirement already satisfied: tenacity>=6.2.0 in /opt/anaconda3/lib/python3.13/site-packages (from plotly) (9.0.0)\n",
      "Requirement already satisfied: packaging in /opt/anaconda3/lib/python3.13/site-packages (from plotly) (24.2)\n",
      "Requirement already satisfied: Flask<3.2,>=1.0.4 in /opt/anaconda3/lib/python3.13/site-packages (from dash) (3.1.0)\n",
      "Requirement already satisfied: Werkzeug<3.2 in /opt/anaconda3/lib/python3.13/site-packages (from dash) (3.1.3)\n",
      "Requirement already satisfied: importlib-metadata in /opt/anaconda3/lib/python3.13/site-packages (from dash) (8.5.0)\n",
      "Requirement already satisfied: typing-extensions>=4.1.1 in /opt/anaconda3/lib/python3.13/site-packages (from dash) (4.12.2)\n",
      "Requirement already satisfied: requests in /opt/anaconda3/lib/python3.13/site-packages (from dash) (2.32.3)\n",
      "Collecting retrying (from dash)\n",
      "  Downloading retrying-1.4.2-py3-none-any.whl.metadata (5.5 kB)\n",
      "Requirement already satisfied: nest-asyncio in /opt/anaconda3/lib/python3.13/site-packages (from dash) (1.6.0)\n",
      "Requirement already satisfied: setuptools in /opt/anaconda3/lib/python3.13/site-packages (from dash) (72.1.0)\n",
      "Requirement already satisfied: Jinja2>=3.1.2 in /opt/anaconda3/lib/python3.13/site-packages (from Flask<3.2,>=1.0.4->dash) (3.1.6)\n",
      "Requirement already satisfied: itsdangerous>=2.2 in /opt/anaconda3/lib/python3.13/site-packages (from Flask<3.2,>=1.0.4->dash) (2.2.0)\n",
      "Requirement already satisfied: click>=8.1.3 in /opt/anaconda3/lib/python3.13/site-packages (from Flask<3.2,>=1.0.4->dash) (8.1.8)\n",
      "Requirement already satisfied: blinker>=1.9 in /opt/anaconda3/lib/python3.13/site-packages (from Flask<3.2,>=1.0.4->dash) (1.9.0)\n",
      "Requirement already satisfied: MarkupSafe>=2.1.1 in /opt/anaconda3/lib/python3.13/site-packages (from Werkzeug<3.2->dash) (3.0.2)\n",
      "Requirement already satisfied: zipp>=3.20 in /opt/anaconda3/lib/python3.13/site-packages (from importlib-metadata->dash) (3.21.0)\n",
      "Requirement already satisfied: charset-normalizer<4,>=2 in /opt/anaconda3/lib/python3.13/site-packages (from requests->dash) (3.3.2)\n",
      "Requirement already satisfied: idna<4,>=2.5 in /opt/anaconda3/lib/python3.13/site-packages (from requests->dash) (3.7)\n",
      "Requirement already satisfied: urllib3<3,>=1.21.1 in /opt/anaconda3/lib/python3.13/site-packages (from requests->dash) (1.26.20)\n",
      "Requirement already satisfied: certifi>=2017.4.17 in /opt/anaconda3/lib/python3.13/site-packages (from requests->dash) (2025.6.15)\n",
      "Downloading dash-3.2.0-py3-none-any.whl (7.9 MB)\n",
      "\u001b[2K   \u001b[90m━━━━━━━━━━━━━━━━━━━━━━━━━━━━━━━━━━━━━━━━\u001b[0m \u001b[32m7.9/7.9 MB\u001b[0m \u001b[31m38.6 MB/s\u001b[0m eta \u001b[36m0:00:00\u001b[0ma \u001b[36m0:00:01\u001b[0m\n",
      "\u001b[?25hDownloading retrying-1.4.2-py3-none-any.whl (10 kB)\n",
      "Installing collected packages: retrying, dash\n",
      "\u001b[2K   \u001b[90m━━━━━━━━━━━━━━━━━━━━━━━━━━━━━━━━━━━━━━━━\u001b[0m \u001b[32m2/2\u001b[0m [dash][32m1/2\u001b[0m [dash]\n",
      "\u001b[1A\u001b[2KSuccessfully installed dash-3.2.0 retrying-1.4.2\n",
      "5.24.1\n",
      "3.2.0\n"
     ]
    }
   ],
   "source": [
    "# install plotly and dash, if not yet already\n",
    "! pip install plotly dash\n",
    "\n",
    "import plotly, dash\n",
    "print(plotly.__version__)\n",
    "print(dash.__version__)"
   ]
  },
  {
   "cell_type": "markdown",
   "metadata": {},
   "source": [
    "# Hello world\n",
    "Building and launching an app with Dash can be done with just 5 lines of code.\n",
    "Follow the tutorial (https://dash.plotly.com/tutorial) for more detail."
   ]
  },
  {
   "cell_type": "code",
   "execution_count": 1,
   "metadata": {
    "scrolled": true
   },
   "outputs": [
    {
     "name": "stdout",
     "output_type": "stream",
     "text": [
      "Dash app running on http://127.0.0.1:8050/\n"
     ]
    },
    {
     "data": {
      "application/javascript": "window.open('http://127.0.0.1:8050/')",
      "text/plain": [
       "<IPython.core.display.Javascript object>"
      ]
     },
     "metadata": {},
     "output_type": "display_data"
    }
   ],
   "source": [
    "from dash import Dash, html\n",
    "\n",
    "# Initialize the app\n",
    "app = Dash()\n",
    "\n",
    "# App layout\n",
    "app.layout = [\n",
    "    html.Div(children='Hello World'),\n",
    "    html.Div(children='Ayush')  # Added another Div to show my name\n",
    "]\n",
    "\n",
    "if __name__ == '__main__':\n",
    "    app.run(debug=True, jupyter_mode=\"tab\")\n",
    "\n"
   ]
  },
  {
   "cell_type": "markdown",
   "metadata": {},
   "source": [
    "# Connecting to Data\n",
    "\n",
    "There are many ways to add data to an app: APIs, external databases, local .txt files, JSON files, and more. In this example, we will highlight one of the most common ways of incorporating data from a CSV sheet."
   ]
  },
  {
   "cell_type": "code",
   "execution_count": 2,
   "metadata": {},
   "outputs": [
    {
     "name": "stdout",
     "output_type": "stream",
     "text": [
      "       country         pop continent  lifeExp     gdpPercap\n",
      "0  Afghanistan  31889923.0      Asia   43.828    974.580338\n",
      "1      Albania   3600523.0    Europe   76.423   5937.029526\n",
      "2      Algeria  33333216.0    Africa   72.301   6223.367465\n",
      "3       Angola  12420476.0    Africa   42.731   4797.231267\n",
      "4    Argentina  40301927.0  Americas   75.320  12779.379640\n",
      "Data rowsXcols: (142, 5)\n",
      "Dash app running on http://127.0.0.1:8050/\n"
     ]
    },
    {
     "data": {
      "application/javascript": "window.open('http://127.0.0.1:8050/')",
      "text/plain": [
       "<IPython.core.display.Javascript object>"
      ]
     },
     "metadata": {},
     "output_type": "display_data"
    }
   ],
   "source": [
    "# Import packages\n",
    "\n",
    "# We import the dash_table module to display the data inside a Dash DataTable.\n",
    "from dash import Dash, html, dash_table\n",
    "\n",
    "# We also import the pandas library to read the CSV sheet data.\n",
    "import pandas as pd\n",
    "\n",
    "# Incorporate data\n",
    "df = pd.read_csv('https://raw.githubusercontent.com/plotly/datasets/master/gapminder2007.csv')\n",
    "\n",
    "# Explore data\n",
    "print(df.head())\n",
    "print(\"Data rowsXcols:\", df.shape)\n",
    "\n",
    "# Initialize the app\n",
    "app = Dash()\n",
    "\n",
    "# App layout. \n",
    "# The 2nd item is a table with only 10 rows per page.\n",
    "app.layout = [\n",
    "    html.Div(children='My First App with Data'),\n",
    "    dash_table.DataTable(data=df.to_dict('records'), page_size=10)\n",
    "    #*** Question: Change page size and observe the change in widget controls\n",
    "    # such as, total number of pages.\n",
    "]\n",
    "\n",
    "# Run the app\n",
    "if __name__ == '__main__':\n",
    "    app.run(debug=True, jupyter_mode=\"tab\")\n"
   ]
  },
  {
   "cell_type": "markdown",
   "metadata": {},
   "source": [
    "# Visualising data\n",
    "\n",
    "The Plotly graphing library has more than 50 chart types to choose from. In this example, we will make use of the histogram chart."
   ]
  },
  {
   "cell_type": "code",
   "execution_count": 3,
   "metadata": {},
   "outputs": [
    {
     "name": "stdout",
     "output_type": "stream",
     "text": [
      "Dash app running on http://127.0.0.1:8050/\n"
     ]
    },
    {
     "data": {
      "application/javascript": "window.open('http://127.0.0.1:8050/')",
      "text/plain": [
       "<IPython.core.display.Javascript object>"
      ]
     },
     "metadata": {},
     "output_type": "display_data"
    }
   ],
   "source": [
    "from dash import Dash, html, dash_table, dcc\n",
    "import plotly.express as px\n",
    "import pandas as pd\n",
    "\n",
    "# Load data\n",
    "df = pd.read_csv('https://raw.githubusercontent.com/plotly/datasets/master/gapminder2007.csv')\n",
    "\n",
    "# Initialize app\n",
    "app = Dash()\n",
    "\n",
    "# App layout with histfunc changed from 'avg' to 'sum'\n",
    "app.layout = [\n",
    "    html.Div(children='My First App with Data and a Graph'),\n",
    "    dash_table.DataTable(data=df.to_dict('records'), page_size=10),\n",
    "    dcc.Graph(\n",
    "        figure=px.histogram(\n",
    "            df,\n",
    "            x='continent',\n",
    "            y='lifeExp',\n",
    "            histfunc='sum',  # Changed from 'avg' to 'sum'\n",
    "            title=\"Sum of lifeExp per continent\"\n",
    "        )\n",
    "    )\n",
    "]\n",
    "\n",
    "if __name__ == '__main__':\n",
    "    app.run(debug=True, jupyter_mode=\"tab\")\n"
   ]
  },
  {
   "cell_type": "markdown",
   "metadata": {},
   "source": [
    "# Controls and Callbacks\n",
    "\n",
    "So far you have built a static app that displays tabular data and a graph. However, as you develop more sophisticated Dash apps, you will likely want to give the app user more freedom to interact with the app and explore the data in greater depth. To achieve that, you will need to add controls to the app by using the callback function.\n",
    "\n",
    "In this example we will add radio buttons to the app layout. Then, we will build the callback to create the interaction between the radio buttons and the histogram chart."
   ]
  },
  {
   "cell_type": "code",
   "execution_count": 4,
   "metadata": {},
   "outputs": [
    {
     "name": "stdout",
     "output_type": "stream",
     "text": [
      "Dash app running on http://127.0.0.1:8050/\n"
     ]
    },
    {
     "data": {
      "application/javascript": "window.open('http://127.0.0.1:8050/')",
      "text/plain": [
       "<IPython.core.display.Javascript object>"
      ]
     },
     "metadata": {},
     "output_type": "display_data"
    }
   ],
   "source": [
    "from dash import Dash, html, dash_table, dcc, callback, Output, Input\n",
    "import pandas as pd\n",
    "import plotly.express as px\n",
    "\n",
    "# Load data\n",
    "df = pd.read_csv('https://raw.githubusercontent.com/plotly/datasets/master/gapminder2007.csv')\n",
    "\n",
    "# Initialize the app\n",
    "app = Dash()\n",
    "\n",
    "# App layout\n",
    "app.layout = [\n",
    "    html.Div(children='My First App with Data, Graph, and Controls'),\n",
    "    html.Hr(),\n",
    "    dcc.RadioItems(\n",
    "        options=[\n",
    "            {'label': 'Population', 'value': 'pop'},\n",
    "            {'label': 'Life Expectancy', 'value': 'lifeExp'},\n",
    "            {'label': 'GDP per Capita', 'value': 'gdpPercap'}\n",
    "        ],\n",
    "        value='lifeExp',\n",
    "        id='controls-and-radio-item'\n",
    "    ),\n",
    "    dash_table.DataTable(data=df.to_dict('records'), page_size=6),\n",
    "    dcc.Graph(figure={}, id='controls-and-graph')\n",
    "]\n",
    "\n",
    "# Callback to update graph based on radio selection\n",
    "@callback(\n",
    "    Output('controls-and-graph', 'figure'),\n",
    "    Input('controls-and-radio-item', 'value')\n",
    ")\n",
    "def update_graph(col_chosen):\n",
    "    fig = px.line(\n",
    "        df,\n",
    "        x='continent',\n",
    "        y=col_chosen,\n",
    "        markers=True,\n",
    "        title=f'Line Graph of {col_chosen} by Continent'\n",
    "    )\n",
    "    return fig\n",
    "\n",
    "# Run the app\n",
    "if __name__ == '__main__':\n",
    "    app.run(debug=True, jupyter_mode=\"tab\")\n"
   ]
  }
 ],
 "metadata": {
  "kernelspec": {
   "display_name": "base",
   "language": "python",
   "name": "python3"
  },
  "language_info": {
   "codemirror_mode": {
    "name": "ipython",
    "version": 3
   },
   "file_extension": ".py",
   "mimetype": "text/x-python",
   "name": "python",
   "nbconvert_exporter": "python",
   "pygments_lexer": "ipython3",
   "version": "3.13.5"
  }
 },
 "nbformat": 4,
 "nbformat_minor": 4
}
